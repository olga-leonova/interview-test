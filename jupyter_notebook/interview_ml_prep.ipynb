{
 "cells": [
  {
   "cell_type": "code",
   "execution_count": 1,
   "metadata": {
    "ExecuteTime": {
     "end_time": "2022-04-17T16:59:40.484257Z",
     "start_time": "2022-04-17T16:59:38.689825Z"
    }
   },
   "outputs": [],
   "source": [
    "import pandas as pd\n",
    "import numpy as np\n",
    "from typing import Tuple, Dict\n",
    "\n",
    "import re\n",
    "import nltk\n",
    "from nltk.corpus import stopwords\n",
    "\n",
    "from sklearn.model_selection import train_test_split\n",
    "from sklearn.feature_extraction.text import TfidfVectorizer\n",
    "from sklearn.metrics import accuracy_score\n",
    "\n",
    "import pickle\n",
    "import lightgbm as lgb"
   ]
  },
  {
   "cell_type": "code",
   "execution_count": 2,
   "metadata": {
    "ExecuteTime": {
     "end_time": "2022-04-17T16:59:40.497134Z",
     "start_time": "2022-04-17T16:59:40.486499Z"
    }
   },
   "outputs": [],
   "source": [
    "# Later all functions should be imported from code\n",
    "\n",
    "def train_lgb(x_train, y_train, x_test, y_test):\n",
    "    eval_set = [(x_train, y_train), (x_test, y_test)]\n",
    "    train_data = eval_set[0]\n",
    "\n",
    "    lgb_estimator = lgb.LGBMRegressor(objective='multiclass',\n",
    "                                      num_class=4,\n",
    "                                      metric='multi_logloss',\n",
    "                                      min_data_in_leaf=5,\n",
    "                                      n_estimators=1000,\n",
    "                                      max_depth=9,\n",
    "                                      num_leaves=2**9)\n",
    "\n",
    "    lgb_estimator.fit(*train_data, eval_set=eval_set, early_stopping_rounds=50)\n",
    "    return lgb_estimator\n",
    "\n",
    "\n",
    "def stemming(text):\n",
    "    text_letters_only = re.sub('[^a-z]',' ',text)\n",
    "    splitted = text_letters_only.split()\n",
    "    \n",
    "    stemmed = [word for word in splitted if not word in stopwords.words('german')]\n",
    "\n",
    "    return ' '.join(stemmed)\n",
    "\n",
    "\n",
    "def save_model(model, path):\n",
    "    pickle.dump(model, open(path, 'wb'))\n",
    "\n",
    "\n",
    "def load_models(path):\n",
    "    tfidf_model = pickle.load(open(f'{path}/tfidf_model.csv', 'rb'))\n",
    "    lgb_model = pickle.load(open(f'{path}/lgb_model.csv', 'rb'))\n",
    "    df = pd.read_csv(f'{path}/class_info.csv')\n",
    "    clases_dict = {row['productgroup_id']: row['productgroup']  for _, row in df.iterrows()}\n",
    "    return tfidf_model, lgb_model, clases_dict"
   ]
  },
  {
   "cell_type": "code",
   "execution_count": 3,
   "metadata": {
    "ExecuteTime": {
     "end_time": "2022-04-17T16:59:40.749533Z",
     "start_time": "2022-04-17T16:59:40.502295Z"
    }
   },
   "outputs": [
    {
     "name": "stderr",
     "output_type": "stream",
     "text": [
      "[nltk_data] Downloading package stopwords to\n",
      "[nltk_data]     /Users/olga.sisyuk/nltk_data...\n",
      "[nltk_data]   Package stopwords is already up-to-date!\n"
     ]
    },
    {
     "data": {
      "text/plain": [
       "True"
      ]
     },
     "execution_count": 3,
     "metadata": {},
     "output_type": "execute_result"
    }
   ],
   "source": [
    "nltk.download('stopwords')"
   ]
  },
  {
   "cell_type": "code",
   "execution_count": 6,
   "metadata": {
    "ExecuteTime": {
     "end_time": "2022-04-17T16:59:52.476985Z",
     "start_time": "2022-04-17T16:59:52.454396Z"
    }
   },
   "outputs": [],
   "source": [
    "df=pd.read_csv('MLE_Task/testset_C.csv', sep=';',)"
   ]
  },
  {
   "cell_type": "code",
   "execution_count": 7,
   "metadata": {
    "ExecuteTime": {
     "end_time": "2022-04-17T16:59:52.682261Z",
     "start_time": "2022-04-17T16:59:52.669492Z"
    }
   },
   "outputs": [
    {
     "data": {
      "text/html": [
       "<div>\n",
       "<style scoped>\n",
       "    .dataframe tbody tr th:only-of-type {\n",
       "        vertical-align: middle;\n",
       "    }\n",
       "\n",
       "    .dataframe tbody tr th {\n",
       "        vertical-align: top;\n",
       "    }\n",
       "\n",
       "    .dataframe thead th {\n",
       "        text-align: right;\n",
       "    }\n",
       "</style>\n",
       "<table border=\"1\" class=\"dataframe\">\n",
       "  <thead>\n",
       "    <tr style=\"text-align: right;\">\n",
       "      <th></th>\n",
       "      <th>id</th>\n",
       "      <th>productgroup</th>\n",
       "      <th>main_text</th>\n",
       "      <th>add_text</th>\n",
       "      <th>manufacturer</th>\n",
       "    </tr>\n",
       "  </thead>\n",
       "  <tbody>\n",
       "    <tr>\n",
       "      <th>0</th>\n",
       "      <td>26229701</td>\n",
       "      <td>WASHINGMACHINES</td>\n",
       "      <td>WAQ284E25</td>\n",
       "      <td>WASCHMASCHINEN</td>\n",
       "      <td>BOSCH</td>\n",
       "    </tr>\n",
       "    <tr>\n",
       "      <th>1</th>\n",
       "      <td>16576864</td>\n",
       "      <td>USB MEMORY</td>\n",
       "      <td>LEEF IBRIDGE MOBILE SPEICHERERWEITERUNG FUER I...</td>\n",
       "      <td>PC__1100COMPUTINGMEMORY__1110MEMORYCARDS</td>\n",
       "      <td>LEEF</td>\n",
       "    </tr>\n",
       "    <tr>\n",
       "      <th>2</th>\n",
       "      <td>26155618</td>\n",
       "      <td>USB MEMORY</td>\n",
       "      <td>SANDISK 32GB ULTRA FIT USB 3.0</td>\n",
       "      <td>W1370</td>\n",
       "      <td>NaN</td>\n",
       "    </tr>\n",
       "    <tr>\n",
       "      <th>3</th>\n",
       "      <td>25646138</td>\n",
       "      <td>BICYCLES</td>\n",
       "      <td>HOLLANDRAD DAMEN 28 ZOLL TUSSAUD 3-GAENGE RH 5...</td>\n",
       "      <td>FAHRRAEDER // SPORTFAHRRAEDER</td>\n",
       "      <td>SCHALOW &amp; KROH GMBH</td>\n",
       "    </tr>\n",
       "    <tr>\n",
       "      <th>4</th>\n",
       "      <td>19764614</td>\n",
       "      <td>BICYCLES</td>\n",
       "      <td>DAHON SPEED D7 SCHWARZ ? FALTRAD</td>\n",
       "      <td>SPORTS__30000WHEELED__30070BIKES</td>\n",
       "      <td>DAHON</td>\n",
       "    </tr>\n",
       "  </tbody>\n",
       "</table>\n",
       "</div>"
      ],
      "text/plain": [
       "         id     productgroup  \\\n",
       "0  26229701  WASHINGMACHINES   \n",
       "1  16576864       USB MEMORY   \n",
       "2  26155618       USB MEMORY   \n",
       "3  25646138         BICYCLES   \n",
       "4  19764614         BICYCLES   \n",
       "\n",
       "                                           main_text  \\\n",
       "0                                          WAQ284E25   \n",
       "1  LEEF IBRIDGE MOBILE SPEICHERERWEITERUNG FUER I...   \n",
       "2                     SANDISK 32GB ULTRA FIT USB 3.0   \n",
       "3  HOLLANDRAD DAMEN 28 ZOLL TUSSAUD 3-GAENGE RH 5...   \n",
       "4                   DAHON SPEED D7 SCHWARZ ? FALTRAD   \n",
       "\n",
       "                                   add_text         manufacturer  \n",
       "0                            WASCHMASCHINEN                BOSCH  \n",
       "1  PC__1100COMPUTINGMEMORY__1110MEMORYCARDS                 LEEF  \n",
       "2                                     W1370                  NaN  \n",
       "3             FAHRRAEDER // SPORTFAHRRAEDER  SCHALOW & KROH GMBH  \n",
       "4          SPORTS__30000WHEELED__30070BIKES                DAHON  "
      ]
     },
     "execution_count": 7,
     "metadata": {},
     "output_type": "execute_result"
    }
   ],
   "source": [
    "df.head()"
   ]
  },
  {
   "cell_type": "code",
   "execution_count": 8,
   "metadata": {
    "ExecuteTime": {
     "end_time": "2022-04-17T16:59:52.872432Z",
     "start_time": "2022-04-17T16:59:52.863887Z"
    }
   },
   "outputs": [
    {
     "data": {
      "text/plain": [
       "id                 0\n",
       "productgroup       0\n",
       "main_text          2\n",
       "add_text           0\n",
       "manufacturer    1344\n",
       "dtype: int64"
      ]
     },
     "execution_count": 8,
     "metadata": {},
     "output_type": "execute_result"
    }
   ],
   "source": [
    "# check if target field has nan values and how many nans are in other column\n",
    "pd.isna(df).sum()"
   ]
  },
  {
   "cell_type": "code",
   "execution_count": 9,
   "metadata": {
    "ExecuteTime": {
     "end_time": "2022-04-17T16:59:53.054141Z",
     "start_time": "2022-04-17T16:59:53.046870Z"
    }
   },
   "outputs": [],
   "source": [
    "# at this stage for us it is ok replace nan by empty string\n",
    "df=df.fillna('')"
   ]
  },
  {
   "cell_type": "code",
   "execution_count": 10,
   "metadata": {
    "ExecuteTime": {
     "end_time": "2022-04-17T16:59:53.237529Z",
     "start_time": "2022-04-17T16:59:53.229357Z"
    }
   },
   "outputs": [
    {
     "data": {
      "text/plain": [
       "id              0\n",
       "productgroup    0\n",
       "main_text       0\n",
       "add_text        0\n",
       "manufacturer    0\n",
       "dtype: int64"
      ]
     },
     "execution_count": 10,
     "metadata": {},
     "output_type": "execute_result"
    }
   ],
   "source": [
    "# check if we replaced all nans\n",
    "pd.isna(df).sum()"
   ]
  },
  {
   "cell_type": "code",
   "execution_count": 11,
   "metadata": {
    "ExecuteTime": {
     "end_time": "2022-04-17T16:59:53.411900Z",
     "start_time": "2022-04-17T16:59:53.404964Z"
    }
   },
   "outputs": [
    {
     "data": {
      "text/plain": [
       "CONTACT LENSES     2000\n",
       "BICYCLES           2000\n",
       "USB MEMORY         2000\n",
       "WASHINGMACHINES    2000\n",
       "Name: productgroup, dtype: int64"
      ]
     },
     "execution_count": 11,
     "metadata": {},
     "output_type": "execute_result"
    }
   ],
   "source": [
    "# check target distribution\n",
    "df['productgroup'].value_counts()"
   ]
  },
  {
   "cell_type": "code",
   "execution_count": 12,
   "metadata": {
    "ExecuteTime": {
     "end_time": "2022-04-17T16:59:53.601864Z",
     "start_time": "2022-04-17T16:59:53.589315Z"
    }
   },
   "outputs": [
    {
     "data": {
      "text/plain": [
       "WASCHVOLLAUTOMAT OMV510A+ OMV510A+|| EEK:A+, 1000 U/MIN, 5KG KAPAZITAET  5043487    85\n",
       "PROCLEAR TORIC6 STÜCKUNISEX                                                         75\n",
       "AIR OPTIX FOR ASTIGM.6 STÜCKUNISEX                                                  74\n",
       "BIOFINITY TORIC 6ER BOX6 STÜCKUNISEX                                                71\n",
       "SOFLENS TORIC6 STÜCKUNISEX                                                          68\n",
       "                                                                                    ..\n",
       "WAW284DE                                                                             1\n",
       "CANDY GO W 496 D WASCHTROCKNER 9/6 KG CANDYGOW496D                                   1\n",
       "AEG WASCHMASCHINE L71360TL                                                           1\n",
       "BOCAS TRK300 DAMEN SCHWARZ MATT 45 CM                                                1\n",
       "BEKO WASCHMASCHINE WML 15106 MNE+, A+, 5 KG, 1000 U/MIN 289248                       1\n",
       "Name: main_text, Length: 6644, dtype: int64"
      ]
     },
     "execution_count": 12,
     "metadata": {},
     "output_type": "execute_result"
    }
   ],
   "source": [
    "# check how main text look like\n",
    "df['main_text'].value_counts()"
   ]
  },
  {
   "cell_type": "code",
   "execution_count": 13,
   "metadata": {
    "ExecuteTime": {
     "end_time": "2022-04-17T16:59:53.803073Z",
     "start_time": "2022-04-17T16:59:53.781038Z"
    }
   },
   "outputs": [],
   "source": [
    "# make all columns lower case\n",
    "df['productgroup']=df['productgroup'].str.lower()\n",
    "df['main_text']=df['main_text'].str.lower()\n",
    "df['add_text']=df['add_text'].str.lower()\n",
    "df['manufacturer']=df['manufacturer'].str.lower()"
   ]
  },
  {
   "cell_type": "code",
   "execution_count": null,
   "metadata": {
    "ExecuteTime": {
     "start_time": "2022-04-17T16:59:53.973Z"
    }
   },
   "outputs": [],
   "source": [
    "# combine all available text together and apply stemming - remove non alpth chars and stopwoords\n",
    "df['combined'] = pd.Series([' '.join(text) for text in df[['main_text','add_text','manufacturer']].values])\n",
    "df['combined'] = df['combined'].apply(stemming)"
   ]
  },
  {
   "cell_type": "code",
   "execution_count": null,
   "metadata": {
    "ExecuteTime": {
     "start_time": "2022-04-17T16:59:54.172Z"
    }
   },
   "outputs": [],
   "source": [
    "# add numeric representation for target col\n",
    "df['productgroup_id']=df['productgroup'].factorize()[0]"
   ]
  },
  {
   "cell_type": "code",
   "execution_count": null,
   "metadata": {
    "ExecuteTime": {
     "start_time": "2022-04-17T16:59:54.362Z"
    }
   },
   "outputs": [],
   "source": [
    "# train tfidf to convert words to numeric vectors\n",
    "tfidf = TfidfVectorizer(ngram_range=(1, 2), stop_words=stopwords.words('german'))\n",
    "features = tfidf.fit_transform(df.combined).toarray()\n",
    "labels = df['productgroup_id']\n"
   ]
  },
  {
   "cell_type": "code",
   "execution_count": null,
   "metadata": {
    "ExecuteTime": {
     "start_time": "2022-04-17T16:59:54.570Z"
    }
   },
   "outputs": [],
   "source": [
    "# train - test split\n",
    "X_train, X_test, y_train, y_test = train_test_split(features, labels, test_size = 0.20, random_state = 0)"
   ]
  },
  {
   "cell_type": "code",
   "execution_count": null,
   "metadata": {
    "ExecuteTime": {
     "start_time": "2022-04-17T16:59:54.778Z"
    }
   },
   "outputs": [],
   "source": [
    "# Train lgb model\n",
    "lgb_model = train_lgb(X_train, y_train, X_test, y_test)"
   ]
  },
  {
   "cell_type": "code",
   "execution_count": null,
   "metadata": {
    "ExecuteTime": {
     "start_time": "2022-04-17T16:59:55.105Z"
    }
   },
   "outputs": [],
   "source": [
    "# Predictions with probabilities for all classes\n",
    "pred_train = lgb_model.predict(X_train)\n",
    "pred_test = lgb_model.predict(X_test)"
   ]
  },
  {
   "cell_type": "code",
   "execution_count": null,
   "metadata": {
    "ExecuteTime": {
     "start_time": "2022-04-17T16:59:55.402Z"
    }
   },
   "outputs": [],
   "source": [
    "df[['productgroup_id','productgroup']].drop_duplicates()"
   ]
  },
  {
   "cell_type": "code",
   "execution_count": null,
   "metadata": {
    "ExecuteTime": {
     "start_time": "2022-04-17T16:59:55.617Z"
    }
   },
   "outputs": [],
   "source": [
    "# generate df with all predictions to check it manually\n",
    "df_test=pd.DataFrame(pred_test, columns=['washingmachines','usb memory','bicycles','contact lenses'])\n",
    "df_test['ground_truth']=y_test.values"
   ]
  },
  {
   "cell_type": "code",
   "execution_count": null,
   "metadata": {
    "ExecuteTime": {
     "start_time": "2022-04-17T16:59:55.802Z"
    }
   },
   "outputs": [],
   "source": [
    "# fetch class with max probability and mark it as prediction\n",
    "pred_one_test=pd.Series([np.argmax(x)for x in pred_test])\n",
    "df_test['prediction']=pred_one_test"
   ]
  },
  {
   "cell_type": "code",
   "execution_count": null,
   "metadata": {
    "ExecuteTime": {
     "start_time": "2022-04-17T16:59:55.993Z"
    }
   },
   "outputs": [],
   "source": [
    "# check what matched with actual classes\n",
    "df_test['matched']=(df_test['prediction']==df_test['ground_truth'])"
   ]
  },
  {
   "cell_type": "code",
   "execution_count": null,
   "metadata": {
    "ExecuteTime": {
     "start_time": "2022-04-17T16:59:56.178Z"
    }
   },
   "outputs": [],
   "source": [
    "# join back text features\n",
    "df_test=df_test.join(df)"
   ]
  },
  {
   "cell_type": "code",
   "execution_count": null,
   "metadata": {
    "ExecuteTime": {
     "start_time": "2022-04-17T16:59:56.377Z"
    }
   },
   "outputs": [],
   "source": [
    "df_test[df_test['matched']].head(20)"
   ]
  },
  {
   "cell_type": "code",
   "execution_count": null,
   "metadata": {
    "ExecuteTime": {
     "start_time": "2022-04-17T16:59:56.537Z"
    }
   },
   "outputs": [],
   "source": [
    "# print acc for train and test\n",
    "pred_one_train=[np.argmax(x)for x in pred_train]\n",
    "pred_one_test=[np.argmax(x)for x in pred_test]\n",
    "\n",
    "print(f'Training data accuracy: {accuracy_score(pred_one_train, y_train)}')\n",
    "print(f'Test data accuracy {accuracy_score(pred_one_test, y_test)}')\n"
   ]
  },
  {
   "cell_type": "code",
   "execution_count": null,
   "metadata": {
    "ExecuteTime": {
     "end_time": "2022-04-17T08:24:19.857544Z",
     "start_time": "2022-04-17T08:24:19.848433Z"
    }
   },
   "outputs": [],
   "source": []
  },
  {
   "cell_type": "code",
   "execution_count": null,
   "metadata": {},
   "outputs": [],
   "source": []
  },
  {
   "cell_type": "code",
   "execution_count": null,
   "metadata": {},
   "outputs": [],
   "source": []
  }
 ],
 "metadata": {
  "kernelspec": {
   "display_name": "Python 3",
   "language": "python",
   "name": "python3"
  },
  "language_info": {
   "codemirror_mode": {
    "name": "ipython",
    "version": 3
   },
   "file_extension": ".py",
   "mimetype": "text/x-python",
   "name": "python",
   "nbconvert_exporter": "python",
   "pygments_lexer": "ipython3",
   "version": "3.7.5"
  }
 },
 "nbformat": 4,
 "nbformat_minor": 2
}
